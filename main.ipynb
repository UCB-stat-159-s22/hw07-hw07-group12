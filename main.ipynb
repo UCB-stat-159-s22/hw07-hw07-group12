{
 "cells": [
  {
   "cell_type": "markdown",
   "id": "0972bf06-233f-4091-b421-29115187245c",
   "metadata": {},
   "source": [
    "**Figure 1**"
   ]
  },
  {
   "cell_type": "markdown",
   "id": "e840a999-892e-4cba-954d-0594640dc44a",
   "metadata": {},
   "source": [
    "**Figure 2**"
   ]
  },
  {
   "cell_type": "markdown",
   "id": "348115e0-9d0f-42b3-bf69-e0b67c956c17",
   "metadata": {},
   "source": [
    "**Figure 3**"
   ]
  },
  {
   "cell_type": "markdown",
   "id": "9eec9734-148a-48f7-bc22-46db41c1dfeb",
   "metadata": {},
   "source": [
    "**Analysis**"
   ]
  },
  {
   "cell_type": "markdown",
   "id": "9fb32869-1b02-4a2d-88dd-aea0e9cba40a",
   "metadata": {},
   "source": [
    "**Results**"
   ]
  },
  {
   "cell_type": "code",
   "execution_count": null,
   "id": "13bbbfb5-458d-438f-b125-6d83ab797f2c",
   "metadata": {},
   "outputs": [],
   "source": []
  }
 ],
 "metadata": {
  "kernelspec": {
   "display_name": "dev_env",
   "language": "python",
   "name": "dev_env"
  },
  "language_info": {
   "codemirror_mode": {
    "name": "ipython",
    "version": 3
   },
   "file_extension": ".py",
   "mimetype": "text/x-python",
   "name": "python",
   "nbconvert_exporter": "python",
   "pygments_lexer": "ipython3",
   "version": "3.8.6"
  }
 },
 "nbformat": 4,
 "nbformat_minor": 5
}
